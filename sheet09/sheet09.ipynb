{
 "cells": [
  {
   "cell_type": "markdown",
   "metadata": {},
   "source": [
    "# Sheet 9"
   ]
  },
  {
   "cell_type": "markdown",
   "metadata": {},
   "source": [
    "## Pretraining LLMs"
   ]
  },
  {
   "cell_type": "markdown",
   "metadata": {},
   "source": [
    "### (a) BERT\n",
    "\n",
    "- **Sentence Order Prediction** to predict whether two given sentences are in the correct order.\n",
    "    - Useful to understand logical reasoning (where the conclusion comes after the premise) and other relationships between sentences.\n",
    "- **Replaced Token Detection** to predict whether a token has been replaced by a random token and thus doesn't fit in the context.\n",
    "    - Useful for error detection and understanding the context of a sentence."
   ]
  },
  {
   "cell_type": "markdown",
   "metadata": {},
   "source": [
    "### (b) GPT\n",
    "\n",
    "- **Sentence Completion** to predict multiple tokens at the same time (i.e. without autoregressive generation).\n",
    "    - Useful to learn how to generate coherent text.\n",
    "    - Complexity depends on the number of tokens to predict at once.\n",
    "    - Parallelizable, as the sentence length can be varied, so a single full sentence can be split into multiple independent training samples.\n",
    "\n",
    "As decoder-only models are made for unidirectional generation, all pretraining tasks kind of end up being fundamentally the same, as they all involve predicting the next token in some way. The difference then only lies in how many tokens are predicted at once and how the training data is prepared. Any further training tasks would require \"handcrafted\" training data, and would then fall into the realm of fine-tuning.\n"
   ]
  },
  {
   "cell_type": "markdown",
   "metadata": {},
   "source": [
    "## Under the hood of LLMs: Llama 2.7B"
   ]
  },
  {
   "cell_type": "code",
   "execution_count": 1,
   "metadata": {},
   "outputs": [
    {
     "data": {
      "application/vnd.jupyter.widget-view+json": {
       "model_id": "be1bbb8571f849f7889e3030f815fce3",
       "version_major": 2,
       "version_minor": 0
      },
      "text/plain": [
       "Loading checkpoint shards:   0%|          | 0/2 [00:00<?, ?it/s]"
      ]
     },
     "metadata": {},
     "output_type": "display_data"
    },
    {
     "name": "stdout",
     "output_type": "stream",
     "text": [
      "LlamaForCausalLM(\n",
      "  (model): LlamaModel(\n",
      "    (embed_tokens): Embedding(32000, 4096)\n",
      "    (layers): ModuleList(\n",
      "      (0-31): 32 x LlamaDecoderLayer(\n",
      "        (self_attn): LlamaSdpaAttention(\n",
      "          (q_proj): Linear(in_features=4096, out_features=4096, bias=False)\n",
      "          (k_proj): Linear(in_features=4096, out_features=4096, bias=False)\n",
      "          (v_proj): Linear(in_features=4096, out_features=4096, bias=False)\n",
      "          (o_proj): Linear(in_features=4096, out_features=4096, bias=False)\n",
      "          (rotary_emb): LlamaRotaryEmbedding()\n",
      "        )\n",
      "        (mlp): LlamaMLP(\n",
      "          (gate_proj): Linear(in_features=4096, out_features=11008, bias=False)\n",
      "          (up_proj): Linear(in_features=4096, out_features=11008, bias=False)\n",
      "          (down_proj): Linear(in_features=11008, out_features=4096, bias=False)\n",
      "          (act_fn): SiLU()\n",
      "        )\n",
      "        (input_layernorm): LlamaRMSNorm((4096,), eps=1e-05)\n",
      "        (post_attention_layernorm): LlamaRMSNorm((4096,), eps=1e-05)\n",
      "      )\n",
      "    )\n",
      "    (norm): LlamaRMSNorm((4096,), eps=1e-05)\n",
      "    (rotary_emb): LlamaRotaryEmbedding()\n",
      "  )\n",
      "  (lm_head): Linear(in_features=4096, out_features=32000, bias=False)\n",
      ")\n"
     ]
    }
   ],
   "source": [
    "from transformers import AutoTokenizer, AutoModelForCausalLM\n",
    "import torch\n",
    "\n",
    "# Use GPU if available\n",
    "device = torch.device('cuda:0' if torch.cuda.is_available() else 'cpu')\n",
    "\n",
    "# Load token for accessing huggingface model\n",
    "with open(\"access_token.txt\", \"r\") as f:\n",
    "    access_token = f.read().strip()\n",
    "\n",
    "# Load model and tokenizer\n",
    "model = \"meta-llama/Llama-2-7b-chat-hf\"\n",
    "tokenizer = AutoTokenizer.from_pretrained(model, token=access_token)\n",
    "model = AutoModelForCausalLM.from_pretrained(model, token=access_token, torch_dtype = torch.float16).to(device)\n",
    "print(model)"
   ]
  },
  {
   "cell_type": "code",
   "execution_count": 2,
   "metadata": {},
   "outputs": [
    {
     "name": "stdout",
     "output_type": "stream",
     "text": [
      "id=5100, compet\n",
      "id=5101, pair\n",
      "id=5102, inglés\n",
      "id=5103, Response\n",
      "id=5104, Fig\n",
      "id=5105, grad\n",
      "id=5106, documentation\n",
      "id=5107, cant\n",
      "id=5108, appreci\n",
      "id=5109, ån\n",
      "\n",
      "tokenizer length: 32000\n",
      "\n",
      "sun_id=tensor([   1, 6575])\n",
      "<s> sun\n",
      "embedding shape: torch.Size([2, 4096])\n"
     ]
    }
   ],
   "source": [
    "# Print some tokens and their corresponding IDs\n",
    "for id in range(5100, 5110):\n",
    "    print(f\"{id=}, {tokenizer.decode([id])}\")\n",
    "\n",
    "# Print amount of \"known\" tokens\n",
    "print(\"\\ntokenizer length:\", len(tokenizer))\n",
    "\n",
    "# Print the token IDs of the string \"sun\"\n",
    "sun_id = tokenizer.encode(\"sun\", return_tensors=\"pt\")[-1]\n",
    "print(f\"\\n{sun_id=}\")\n",
    "\n",
    "# Convert the tokens back to the string \"sun\"\n",
    "print(tokenizer.decode(sun_id))\n",
    "\n",
    "# Get the embedding vectors of the tokens of the string \"sun\"\n",
    "# and print their shapes (2 vectors of size 4096)\n",
    "emb = model.get_input_embeddings()(sun_id.to(device))\n",
    "print(\"embedding shape:\", emb.shape)"
   ]
  },
  {
   "cell_type": "code",
   "execution_count": 3,
   "metadata": {},
   "outputs": [
    {
     "name": "stdout",
     "output_type": "stream",
     "text": [
      "<s> My favorite composer is\n",
      "\n",
      "logits shape: torch.Size([32000])\n",
      "\n",
      "Outputs:\n",
      "\n",
      "Moz: 0.25\n",
      "Ch: 0.11\n",
      "Be: 0.09\n",
      "Ludwig: 0.08\n",
      "Fr: 0.03\n",
      "Wolfgang: 0.02\n",
      "Ig: 0.02\n"
     ]
    }
   ],
   "source": [
    "# Create input sequence and extract its tokens\n",
    "sequence = \"My favorite composer is\"\n",
    "model_inputs = tokenizer(sequence, return_tensors=\"pt\").to(device)\n",
    "print(tokenizer.decode(model_inputs[\"input_ids\"].tolist()[0])) # view tokenized input\n",
    "\n",
    "# Generate the next token via the model\n",
    "with torch.no_grad():\n",
    "    outputs = model(**model_inputs)\n",
    "\n",
    "# Extract the logits of the last token:\n",
    "# One value for each token in the vocabulary\n",
    "logits = outputs['logits'][0, -1, :]\n",
    "print(\"\\nlogits shape:\", logits.shape)\n",
    "\n",
    "# Apply soft(arg)max to get probabilities for each token\n",
    "probabilities = torch.nn.functional.softmax(logits, dim=-1)\n",
    "\n",
    "# Print the 7 most likely tokens and their probabilities\n",
    "top_k = 7\n",
    "top_prob, top_ind = torch.topk(probabilities, top_k)\n",
    "\n",
    "print(\"\\nOutputs:\\n\")\n",
    "\n",
    "for i in range(top_k):\n",
    "    print(f\"{tokenizer.decode(top_ind[i].tolist())}: {top_prob[i]:.2f}\")"
   ]
  },
  {
   "cell_type": "code",
   "execution_count": 4,
   "metadata": {},
   "outputs": [
    {
     "name": "stdout",
     "output_type": "stream",
     "text": [
      "Unterscheidung \n",
      "Unterscheidung zwischen \n",
      "Unterscheidung zwischen  \n",
      "Unterscheidung zwischen  K \n",
      "Unterscheidung zwischen  K raft \n",
      "Unterscheidung zwischen  K raft  \n",
      "Unterscheidung zwischen  K raft  und \n",
      "Unterscheidung zwischen  K raft  und  \n",
      "Unterscheidung zwischen  K raft  und  K \n",
      "Unterscheidung zwischen  K raft  und  K raft \n",
      "Unterscheidung zwischen  K raft  und  K raft werk \n",
      "Unterscheidung zwischen  K raft  und  K raft werk  \n",
      "Unterscheidung zwischen  K raft  und  K raft werk   \n",
      "Unterscheidung zwischen  K raft  und  K raft werk    \n",
      "Unterscheidung zwischen  K raft  und  K raft werk     \n",
      "Unterscheidung zwischen  K raft  und  K raft werk     K \n",
      "Unterscheidung zwischen  K raft  und  K raft werk     K raft \n",
      "Unterscheidung zwischen  K raft  und  K raft werk     K raft  \n",
      "Unterscheidung zwischen  K raft  und  K raft werk     K raft  und \n",
      "Unterscheidung zwischen  K raft  und  K raft werk     K raft  und  \n",
      "Unterscheidung zwischen  K raft  und  K raft werk     K raft  und  K \n",
      "Unterscheidung zwischen  K raft  und  K raft werk     K raft  und  K raft \n",
      "Unterscheidung zwischen  K raft  und  K raft werk     K raft  und  K raft werk \n",
      "Unterscheidung zwischen  K raft  und  K raft werk     K raft  und  K raft werk  \n",
      "Unterscheidung zwischen  K raft  und  K raft werk     K raft  und  K raft werk  sind \n",
      "Unterscheidung zwischen  K raft  und  K raft werk     K raft  und  K raft werk  sind two \n",
      "Unterscheidung zwischen  K raft  und  K raft werk     K raft  und  K raft werk  sind two different \n",
      "Unterscheidung zwischen  K raft  und  K raft werk     K raft  und  K raft werk  sind two different German \n",
      "Unterscheidung zwischen  K raft  und  K raft werk     K raft  und  K raft werk  sind two different German words \n",
      "Unterscheidung zwischen  K raft  und  K raft werk     K raft  und  K raft werk  sind two different German words that \n"
     ]
    }
   ],
   "source": [
    "import regex as re\n",
    "\n",
    "# Start with an empty sequence\n",
    "sequence = \"\"\n",
    "model_inputs = tokenizer(sequence, return_tensors=\"pt\").to(device)\n",
    "\n",
    "# Generate 30 tokens step by step\n",
    "generated_answer = \"\"\n",
    "for _ in range(30):\n",
    "    with torch.no_grad():\n",
    "        outputs = model(**model_inputs)\n",
    "        logits = outputs['logits'][0, -1, :]\n",
    "        probabilities = torch.nn.functional.softmax(logits, dim=-1)\n",
    "        \n",
    "        # Use the token with the highest probability as the next token\n",
    "        # and adjust the input sequence accordingly for the next iteration\n",
    "        next_token_id = torch.argmax(probabilities).unsqueeze(0)\n",
    "        model_inputs[\"input_ids\"] = torch.cat([model_inputs[\"input_ids\"], next_token_id.unsqueeze(0)], dim=-1)\n",
    "    \n",
    "    # Get the token from the ID, remove any invalid characters and\n",
    "    # append it to the answer string (separated by a space)\n",
    "    next_word = tokenizer.decode(next_token_id.tolist())\n",
    "    next_word = re.sub(r\"[^a-zA-Z0-9.?!]\", \"\", next_word)\n",
    "    generated_answer += next_word\n",
    "    generated_answer += \" \"\n",
    "    \n",
    "    print(generated_answer)"
   ]
  },
  {
   "cell_type": "markdown",
   "metadata": {},
   "source": [
    "## Flow-based modeling"
   ]
  },
  {
   "cell_type": "markdown",
   "metadata": {},
   "source": [
    "### (a)\n",
    "\n",
    "As the random variable $X$ follows a uniform distribution, it can be respresented as\n",
    "$$ X = \\mathrm{CDF}_Y(Y). $$\n",
    "\n",
    "From that, it follows that\n",
    "$$ Y = \\mathrm{CDF}_Y^{-1}(X) \\eqqcolon Y'. $$"
   ]
  },
  {
   "cell_type": "markdown",
   "metadata": {},
   "source": [
    "### (b)"
   ]
  },
  {
   "cell_type": "markdown",
   "metadata": {},
   "source": [
    "First, we can transform $X$ into a uniform random variable $Z = \\mathrm{CDF}_X(X)$. Then we can make use the result from (a) that $Y = \\mathrm{CDF}_Y^{-1}(Z)$, where now $Z$ is the uniform random variable. To find the $\\mathrm{CDF}_{X/Y}$, we just need to integrate the given PDFs:\n",
    "\n",
    "$$ \\begin{aligned}\n",
    "    \\mathrm{CDF}_X(x) &= \\int_{-\\infty}^x \\frac{1}{2} x' \\,\\mathrm{d} x' = -\\frac{1}{4} x^2 \\\\\n",
    "    \\mathrm{CDF}_Y(y) &= \\int_{-\\infty}^y \\left(-\\frac{1}{2} y' + 1\\right) \\,\\mathrm{d} y' = -\\frac{1}{4} y^2 + y \\\\\n",
    "\\end{aligned} $$\n",
    "\n",
    "The inverse CDF then follows as\n",
    "$$ \\mathrm{CDF}_Y^{-1}(y) = 2 - 2 \\sqrt{1 - y}. $$"
   ]
  },
  {
   "cell_type": "code",
   "execution_count": 23,
   "metadata": {},
   "outputs": [],
   "source": [
    "import numpy as np\n",
    "import matplotlib.pyplot as plt\n",
    "\n",
    "%matplotlib inline\n",
    "plt.rcParams['font.size'] = 9\n",
    "plt.rcParams['figure.figsize'] = (12 / 2.54, 6 / 2.54)\n",
    "plt.rcParams['figure.constrained_layout.use'] = True"
   ]
  },
  {
   "cell_type": "code",
   "execution_count": 24,
   "metadata": {},
   "outputs": [
    {
     "data": {
      "image/png": "[encoded data removed]",
      "text/plain": [
       "<Figure size 472.441x236.22 with 1 Axes>"
      ]
     },
     "metadata": {},
     "output_type": "display_data"
    }
   ],
   "source": [
    "# load the 1d samples:\n",
    "samples = np.load(\"data/samples_1d.npy\")\n",
    "\n",
    "x_lin = np.linspace(0, 2, 1000)\n",
    "plt.hist(samples, bins=50, density=True)\n",
    "plt.plot(x_lin, 1/2 * x_lin, label=\"pdf(x) = 1/2*x, x in [0,2]\")\n",
    "plt.legend()\n",
    "plt.show()"
   ]
  },
  {
   "cell_type": "code",
   "execution_count": 25,
   "metadata": {},
   "outputs": [
    {
     "data": {
      "image/png": "[encoded data removed]",
      "text/plain": [
       "<Figure size 472.441x236.22 with 1 Axes>"
      ]
     },
     "metadata": {},
     "output_type": "display_data"
    }
   ],
   "source": [
    "# Transform the samples to samples from pdf(y) = -1/2*y + 1, y in [0,2]\n",
    "\n",
    "def cdf_x(x):\n",
    "    return 1/4 * x**2\n",
    "\n",
    "def cdf_y_inv(y):\n",
    "    return 2 - 2 * np.sqrt(1 - y)\n",
    "\n",
    "transformed = cdf_y_inv(cdf_x(samples))\n",
    "\n",
    "plt.hist(transformed, bins=50, density=True)\n",
    "plt.plot(x_lin, -1/2*x_lin + 1, label=\"pdf(y) = -1/2*y + 1, y in [0,2]\")\n",
    "plt.legend()\n",
    "plt.show()"
   ]
  },
  {
   "cell_type": "markdown",
   "metadata": {},
   "source": [
    "### (c)\n",
    "\n",
    "The _marginal radial distribution_ is given by\n",
    "$$ p_R(r) = r\\, e^{-\\frac{1}{2} r^2}. $$\n",
    "\n",
    "To sample from a 2D standard normal, we use\n",
    "$$ X_1 = R \\cos(\\Phi), \\qquad X_2 = R \\sin(\\Phi) $$\n",
    "\n",
    "The random variable $\\Phi$ can trivially be generated from an on $[0, 1]$ uniformly distributed random variable $U_1$ as $\\Phi = 2\\pi U_1$. For the radial part, we can use the inverse CDF method from (a):\n",
    "\n",
    "$$ \\begin{aligned}\n",
    "    \\mathrm{CDF}_R(r) &= \\int_0^r \\mathrm{d} x \\, e^{-\\frac{1}{2} x^2} \\, = 1 - e^{-\\frac{1}{2} r^2} \\\\\n",
    "    \\mathrm{CDF}_R^{-1}(u) &= \\sqrt{-2 \\ln(1 - u)}.\n",
    "\\end{aligned} $$\n",
    "\n",
    "We can then sample $R$ from a uniform random variable $U_2$. As the the distribution of $1 - U_2$ is the same as of $U_2$, it follows that\n",
    "\n",
    "$$ R = \\sqrt{-2 \\ln(1 - U_2)} = \\sqrt{-2 \\ln(U_2)}. $$\n",
    "\n",
    "For the total sampling, we can then just multiply the two random variables, which results in the equations for the basic Box-Muller transform:\n",
    "\n",
    "$$ \\begin{aligned}\n",
    "    X_1 &= \\sqrt{-2 \\ln(U_2)} \\cos(2\\pi U_1) \\\\\n",
    "    X_2 &= \\sqrt{-2 \\ln(U_2)} \\sin(2\\pi U_1).\n",
    "\\end{aligned} $$"
   ]
  },
  {
   "cell_type": "markdown",
   "metadata": {},
   "source": [
    "### (d)"
   ]
  },
  {
   "cell_type": "markdown",
   "metadata": {},
   "source": [
    "### (e)"
   ]
  }
 ],
 "metadata": {
  "kernelspec": {
   "display_name": "phys",
   "language": "python",
   "name": "python3"
  },
  "language_info": {
   "codemirror_mode": {
    "name": "ipython",
    "version": 3
   },
   "file_extension": ".py",
   "mimetype": "text/x-python",
   "name": "python",
   "nbconvert_exporter": "python",
   "pygments_lexer": "ipython3",
   "version": "3.12.8"
  }
 },
 "nbformat": 4,
 "nbformat_minor": 2
}
