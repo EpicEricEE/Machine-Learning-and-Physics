{
 "cells": [
  {
   "cell_type": "markdown",
   "metadata": {},
   "source": [
    "# Sheet 4"
   ]
  },
  {
   "cell_type": "code",
   "execution_count": 1,
   "metadata": {},
   "outputs": [],
   "source": [
    "import numpy as np\n",
    "from matplotlib import pyplot as plt\n",
    "\n",
    "%matplotlib inline\n",
    "plt.rcParams['font.size'] = 9\n",
    "plt.rcParams['figure.figsize'] = (12 / 2.54, 6 / 2.54)\n",
    "plt.rcParams['figure.constrained_layout.use'] = True"
   ]
  },
  {
   "cell_type": "markdown",
   "metadata": {},
   "source": [
    "## Bayes: Signal or Noise?"
   ]
  },
  {
   "cell_type": "markdown",
   "metadata": {},
   "source": [
    "Using Bayes theorem\n",
    "$$ \\begin{aligned}\n",
    "    p(x, y) &= p(x \\mid y) \\cdot p(y) = p(y \\mid x) \\cdot p(x) \\\\\n",
    "    p(x) &= p(x \\mid y) \\cdot p(y) + p(x \\mid y') \\cdot p(y')\n",
    "\\end{aligned} $$\n",
    "\n",
    "we can write\n",
    "$$ p(\\text{gamma ray} \\mid \\text{target direction}) = p(\\text{target direction} \\mid \\text{gamma ray}) \\cdot \\frac{p(\\text{gamma ray})}{p(\\text{target direction})} $$\n",
    "where\n",
    "$$ \\begin{aligned}\n",
    "    p(\\text{target direction}) &= p(\\text{target direction} \\mid \\text{gamma ray}) \\cdot p(\\text{gamma ray}) \\\\\n",
    "    &+\\, p(\\text{target direction} \\mid \\text{background}) \\cdot p(\\text{background}) \\\\\n",
    "    &= 0.95 \\cdot 0.1 + 0.1 \\cdot 0.9 \\\\\n",
    "    &= 0.185.\n",
    "\\end{aligned}$$\n",
    "\n",
    "Inserting the given values, it follows that\n",
    "$$\n",
    "  p(\\text{gamma ray} \\mid \\text{target direction}) = 0.95 \\cdot \\frac{0.1}{0.185} \\approx 0.514.\n",
    "$$"
   ]
  },
  {
   "cell_type": "markdown",
   "metadata": {},
   "source": [
    "## Bayes Classifiers"
   ]
  },
  {
   "cell_type": "markdown",
   "metadata": {},
   "source": [
    "### (a)\n",
    "\n",
    "The expected loss for a single value is\n",
    "$$\n",
    "  \\mathbb{E}_{Y \\mid X=x} L(Y, f(x)) = \\cancel{0 \\cdot p(f(x) \\mid x)} + \\begin{cases}\n",
    "      10 \\cdot p(y = 1 \\mid x) & \\text{if}\\ f(x) = 0, \\\\\n",
    "      1 \\cdot p(y = 0 \\mid x) & \\text{otherwise}.\n",
    "  \\end{cases}\n",
    "$$\n",
    "\n",
    "The classifier should thus prefer $f(x) = 0$ if the loss in the top case is less than the loss in the bottom case. With $\\sum_y p(y \\mid x) = 1$, this can be written as\n",
    "\n",
    "$$ \\begin{aligned}\n",
    "  f(x) &= \\begin{cases}\n",
    "      0 & \\text{if}\\ 10 \\cdot p(y = 1 \\mid x) < p(y = 0 \\mid x), \\\\\n",
    "      1 & \\text{otherwise}\n",
    "  \\end{cases} \\\\\n",
    "  &= \\begin{cases}\n",
    "      0 & \\text{if}\\ p(y = 0 \\mid x) > \\frac{10}{11}, \\\\\n",
    "      1 & \\text{otherwise}.\n",
    "  \\end{cases}\n",
    "\\end{aligned} $$\n",
    "\n",
    "\n",
    "The higher loss directly goes into the \"confidence\" required to classify a sample as class 0. The decision boundary then is not at $p(y = 0 \\mid x) = 0.5$ anymore, but at $p(y = 0 \\mid x) = 10/11$.\n",
    "\n",
    "This kind of loss matrix is useful in \"better safe than sorry\" contexts, where false positives are more acceptable than false negatives (or the other way around)."
   ]
  },
  {
   "cell_type": "markdown",
   "metadata": {},
   "source": [
    "### (b)\n",
    "\n",
    "The expected loss in this case is\n",
    "\n",
    "$$\n",
    "    \\mathbb{E}_{Y \\mid X=x} L(Y, f(x)) = \\cancel{0 \\cdot p(f(x) \\mid x)} + \\sum_{\\substack{y\\in Y \\setminus f(x)}}^k \\begin{cases}\n",
    "        \\alpha \\cdot p(y \\mid x) & \\text{if}\\ f(x) = 0, \\\\\n",
    "        1 \\cdot p(y \\mid x) & \\text{otherwise}.\n",
    "    \\end{cases}\n",
    "$$\n",
    "\n",
    "With $\\sum_{y=1}^k p(y \\mid x) = 1$ and $p(y=0 \\mid x) = 0$, this can be simplified to\n",
    "$$\n",
    "    \\mathbb{E}_{Y \\mid X=x} L(Y, f(x)) = \\begin{cases}\n",
    "        \\alpha & \\text{if}\\ f(x) = 0, \\\\\n",
    "        1 - p(f(x) \\mid x) & \\text{otherwise}.\n",
    "    \\end{cases}\n",
    "$$\n",
    "\n",
    "The bottom case looks the same as for 0-1 loss, so we can define the classifier $f(x)$ as\n",
    "$$\n",
    "    f(x) = \\begin{cases}\n",
    "        0 & \\text{if}\\ 1 - \\alpha > \\max_y p(y \\mid x), \\\\\n",
    "        \\mathrm{arg\\,max}_y\\, p(y \\mid x) & \\text{otherwise}.\n",
    "    \\end{cases}\n",
    "$$\n",
    "\n",
    "The $\\alpha$ value describes a kind of confidence threshold: If the most likely class has a probability of less than $1-\\alpha$, the classifier will reject the sample instead.\n",
    "\n",
    "This kind of classifier is useful when handling data with outliers, or again when a wrong classification has bad consequences."
   ]
  },
  {
   "cell_type": "markdown",
   "metadata": {},
   "source": [
    "## QDA"
   ]
  },
  {
   "cell_type": "code",
   "execution_count": 2,
   "metadata": {},
   "outputs": [],
   "source": [
    "pts = np.load('data/data1d.npy')\n",
    "labels = np.load('data/labels1d.npy')"
   ]
  },
  {
   "cell_type": "markdown",
   "metadata": {},
   "source": [
    "### (a)"
   ]
  },
  {
   "cell_type": "code",
   "execution_count": 3,
   "metadata": {},
   "outputs": [],
   "source": [
    "classes = np.unique(labels)\n",
    "means = np.array([np.mean(pts[labels == c]) for c in classes])\n",
    "stds = np.array([np.std(pts[labels == c]) for c in classes])"
   ]
  },
  {
   "cell_type": "markdown",
   "metadata": {},
   "source": [
    "### (b)"
   ]
  },
  {
   "cell_type": "code",
   "execution_count": 4,
   "metadata": {},
   "outputs": [],
   "source": [
    "def gaussian(x, mean, std):\n",
    "    return np.exp(-(x-mean)**2 / (2*std**2)) / (np.sqrt(2*np.pi) * std)"
   ]
  },
  {
   "cell_type": "code",
   "execution_count": 5,
   "metadata": {},
   "outputs": [],
   "source": [
    "x = np.linspace(-10, 10, 500)\n",
    "priors = np.array([1/2, 1/2])\n",
    "likelihoods = gaussian(x, means[:, np.newaxis], stds[:, np.newaxis])\n",
    "posteriors = priors[:, np.newaxis] * likelihoods\n",
    "posteriors /= np.sum(posteriors, axis=0) # sum over classes"
   ]
  },
  {
   "cell_type": "code",
   "execution_count": 6,
   "metadata": {},
   "outputs": [
    {
     "name": "stdout",
     "output_type": "stream",
     "text": [
      "Decision boundary: 1.18\n"
     ]
    }
   ],
   "source": [
    "mask = (x > -2) & (x < 5)\n",
    "boundary = np.abs(posteriors[0] - 0.5)[mask].argmin()\n",
    "print(f\"Decision boundary: {x[mask][boundary]:.2f}\")"
   ]
  },
  {
   "cell_type": "code",
   "execution_count": 7,
   "metadata": {},
   "outputs": [
    {
     "data": {
      "image/png": "[encoded data removed]",
      "text/plain": [
       "<Figure size 472.441x236.22 with 1 Axes>"
      ]
     },
     "metadata": {},
     "output_type": "display_data"
    }
   ],
   "source": [
    "for label, likelihood in zip(classes, likelihoods):\n",
    "    plt.plot(x, likelihood, label=f\"$p(x|y={label:.0f})$\")\n",
    "\n",
    "plt.plot(x, posteriors[0], label=\"$p(y=0|x)$\")\n",
    "plt.axvline(x[mask][boundary], c='k', ls='--', label='Boundary')\n",
    "\n",
    "plt.legend()\n",
    "plt.show()"
   ]
  },
  {
   "cell_type": "markdown",
   "metadata": {},
   "source": [
    "The decision boundary is exactly at the intersection of the two Gaussians."
   ]
  },
  {
   "cell_type": "code",
   "execution_count": 8,
   "metadata": {},
   "outputs": [],
   "source": [
    "priors = np.array([2/3, 1/3])\n",
    "posteriors = priors[:, np.newaxis] * likelihoods\n",
    "posteriors /= np.sum(posteriors, axis=0)"
   ]
  },
  {
   "cell_type": "code",
   "execution_count": 9,
   "metadata": {},
   "outputs": [
    {
     "name": "stdout",
     "output_type": "stream",
     "text": [
      "Decision boundary: 1.62\n"
     ]
    }
   ],
   "source": [
    "mask = (x > -2) & (x < 5)\n",
    "boundary = np.abs(posteriors[0] - 0.5)[mask].argmin()\n",
    "print(f\"Decision boundary: {x[mask][boundary]:.2f}\")"
   ]
  },
  {
   "cell_type": "code",
   "execution_count": 10,
   "metadata": {},
   "outputs": [
    {
     "data": {
      "image/png": "[encoded data removed]",
      "text/plain": [
       "<Figure size 472.441x236.22 with 1 Axes>"
      ]
     },
     "metadata": {},
     "output_type": "display_data"
    }
   ],
   "source": [
    "for label, likelihood in zip(classes, likelihoods):\n",
    "    plt.plot(x, likelihood, label=f\"$p(x|y={label:.0f})$\")\n",
    "    \n",
    "plt.plot(x, posteriors[0], label=\"$p(y=0|x)$\")\n",
    "plt.axvline(x[mask][boundary], c='k', ls='--', label='Boundary')\n",
    "\n",
    "plt.legend()\n",
    "plt.show()"
   ]
  },
  {
   "cell_type": "markdown",
   "metadata": {},
   "source": [
    "When class 0 is given a higher prior probability, the decision boundary is moved to the right, so that more points are classified as class 0."
   ]
  },
  {
   "cell_type": "markdown",
   "metadata": {},
   "source": [
    "## Trees and Random Forests"
   ]
  },
  {
   "cell_type": "markdown",
   "metadata": {},
   "source": [
    "### (a)"
   ]
  },
  {
   "cell_type": "code",
   "execution_count": 11,
   "metadata": {},
   "outputs": [],
   "source": [
    "def gini(split):\n",
    "    p = split / np.sum(split)\n",
    "    return 1 - np.sum(p**2, axis=0)\n",
    "\n",
    "def entropy(split):\n",
    "    p = split / np.sum(split)\n",
    "    return -np.sum(p * np.log2(p, where=(p != 0)), axis=0)\n",
    "\n",
    "def misclassification(split):\n",
    "    p = split / np.sum(split)\n",
    "    return 1 - np.max(p, axis=0)\n",
    "\n",
    "def compute_split_measure(func, root, left, right):\n",
    "    return func(root) - left.sum() / root.sum() * func(left) \\\n",
    "                      - right.sum() / root.sum() * func(right)"
   ]
  },
  {
   "cell_type": "markdown",
   "metadata": {},
   "source": [
    "#### Split A"
   ]
  },
  {
   "cell_type": "code",
   "execution_count": 12,
   "metadata": {},
   "outputs": [
    {
     "name": "stdout",
     "output_type": "stream",
     "text": [
      "Gini impurity: 0.125\n",
      "Entropy:       0.189\n",
      "Misclassific.: 0.250\n"
     ]
    }
   ],
   "source": [
    "root  = np.array([400, 400])\n",
    "left  = np.array([300, 100])\n",
    "right = np.array([100, 300])\n",
    "\n",
    "print(f\"Gini impurity: {compute_split_measure(gini, root, left, right):.3f}\")\n",
    "print(f\"Entropy:       {compute_split_measure(entropy, root, left, right):.3f}\")\n",
    "print(f\"Misclassific.: {compute_split_measure(misclassification, root, left, right):.3f}\")"
   ]
  },
  {
   "cell_type": "markdown",
   "metadata": {},
   "source": [
    "#### Split B"
   ]
  },
  {
   "cell_type": "code",
   "execution_count": 13,
   "metadata": {},
   "outputs": [
    {
     "name": "stdout",
     "output_type": "stream",
     "text": [
      "Gini impurity: 0.167\n",
      "Entropy:       0.311\n",
      "Misclassific.: 0.250\n"
     ]
    }
   ],
   "source": [
    "root  = np.array([400, 400])\n",
    "left  = np.array([200, 0])\n",
    "right = np.array([200, 400])\n",
    "\n",
    "print(f\"Gini impurity: {compute_split_measure(gini, root, left, right):.3f}\")\n",
    "print(f\"Entropy:       {compute_split_measure(entropy, root, left, right):.3f}\")\n",
    "print(f\"Misclassific.: {compute_split_measure(misclassification, root, left, right):.3f}\")"
   ]
  },
  {
   "cell_type": "markdown",
   "metadata": {},
   "source": [
    "Both Gini impurity and entropy prefer Split B, while the misclassification rate is the same for both splits."
   ]
  },
  {
   "cell_type": "markdown",
   "metadata": {},
   "source": [
    "### (b)"
   ]
  },
  {
   "cell_type": "code",
   "execution_count": 14,
   "metadata": {},
   "outputs": [],
   "source": [
    "# load the data\n",
    "pts = np.load('data/data1d.npy')\n",
    "labels = np.load('data/labels1d.npy')\n",
    "\n",
    "# sort the points to easily split them\n",
    "idx = np.argsort(pts)\n",
    "pts = pts[idx]\n",
    "labels = labels[idx]\n",
    "\n",
    "def probabilities(partition):\n",
    "    # divide counts by size of dataset to get cluster probabilites\n",
    "    return np.unique(partition, return_counts=True)[1] / len(partition)\n",
    "\n",
    "def gini(p):\n",
    "    return 1 - np.sum(p**2)\n",
    "\n",
    "def entropy(p):\n",
    "    return -np.sum(p * np.log2(p, where=(p != 0)))\n",
    "\n",
    "def misclassification(p):\n",
    "    return 1 - np.max(p)\n",
    "\n",
    "def compute_split_measure(l, l0, l1, method):\n",
    "    p0 = probabilities(l0)\n",
    "    p1 = probabilities(l1)\n",
    "    p = probabilities(l)\n",
    "    return method(p) - (len(l0) * method(p0) + len(l1) * method(p1)) / (len(l))"
   ]
  },
  {
   "cell_type": "code",
   "execution_count": 15,
   "metadata": {},
   "outputs": [],
   "source": [
    "measures = { \"gini\": [], \"entropy\": [], \"misclassification\": [] }\n",
    "\n",
    "for i in range(1, len(pts)):\n",
    "    left = labels[:i]\n",
    "    right = labels[i:]\n",
    "    measures[\"gini\"].append(compute_split_measure(labels, left, right, gini))\n",
    "    measures[\"entropy\"].append(compute_split_measure(labels, left, right, entropy))\n",
    "    measures[\"misclassification\"].append(compute_split_measure(labels, left, right, misclassification))"
   ]
  },
  {
   "cell_type": "code",
   "execution_count": 16,
   "metadata": {},
   "outputs": [
    {
     "data": {
      "image/png": "[encoded data removed]",
      "text/plain": [
       "<Figure size 472.441x236.22 with 1 Axes>"
      ]
     },
     "metadata": {},
     "output_type": "display_data"
    }
   ],
   "source": [
    "plt.hist(pts[labels==0], bins=30, color='C5', alpha=0.3)\n",
    "plt.hist(pts[labels==1], bins=30, color='C7', alpha=0.3)\n",
    "\n",
    "for i, (measure, values) in enumerate(measures.items()):\n",
    "    plt.axvline(pts[np.argmax(values)], label=measure, lw=2, c=f\"C{i}\")\n",
    "\n",
    "plt.legend()\n",
    "plt.show()"
   ]
  },
  {
   "cell_type": "markdown",
   "metadata": {},
   "source": [
    "Gini impurity and entropy both do a good job at splitting the data, so that to the right of the split, almost all of the points are of class 1."
   ]
  },
  {
   "cell_type": "markdown",
   "metadata": {},
   "source": [
    "### (c)"
   ]
  },
  {
   "cell_type": "code",
   "execution_count": 17,
   "metadata": {},
   "outputs": [],
   "source": [
    "# load the dijet data\n",
    "features = np.load('data/dijet_features_normalized.npy')\n",
    "labels = np.load('data/dijet_labels.npy')\n",
    "\n",
    "# shuffle the data\n",
    "idx = np.random.permutation(len(labels))\n",
    "features = features[:, idx]\n",
    "labels = labels[idx]\n",
    "\n",
    "# split the data into test and validation\n",
    "features_test = features[:, :200]\n",
    "features_val = features[:, 200:400]\n",
    "features_train = features[:, 400:]\n",
    "labels_test = labels[:200]\n",
    "labels_val = labels[200:400]\n",
    "labels_train = labels[400:]"
   ]
  },
  {
   "cell_type": "code",
   "execution_count": 18,
   "metadata": {},
   "outputs": [
    {
     "name": "stdout",
     "output_type": "stream",
     "text": [
      "n_trees=5, criterion='gini', depth=2: 0.765\n",
      "n_trees=5, criterion='gini', depth=5: 0.81\n",
      "n_trees=5, criterion='gini', depth=10: 0.775\n",
      "n_trees=5, criterion='gini', depth=None: 0.77\n",
      "n_trees=5, criterion='entropy', depth=2: 0.755\n",
      "n_trees=5, criterion='entropy', depth=5: 0.775\n",
      "n_trees=5, criterion='entropy', depth=10: 0.72\n",
      "n_trees=5, criterion='entropy', depth=None: 0.77\n",
      "n_trees=10, criterion='gini', depth=2: 0.755\n",
      "n_trees=10, criterion='gini', depth=5: 0.805\n",
      "n_trees=10, criterion='gini', depth=10: 0.81\n",
      "n_trees=10, criterion='gini', depth=None: 0.79\n",
      "n_trees=10, criterion='entropy', depth=2: 0.77\n",
      "n_trees=10, criterion='entropy', depth=5: 0.815\n",
      "n_trees=10, criterion='entropy', depth=10: 0.805\n",
      "n_trees=10, criterion='entropy', depth=None: 0.755\n",
      "n_trees=20, criterion='gini', depth=2: 0.72\n",
      "n_trees=20, criterion='gini', depth=5: 0.81\n",
      "n_trees=20, criterion='gini', depth=10: 0.8\n",
      "n_trees=20, criterion='gini', depth=None: 0.835\n",
      "n_trees=20, criterion='entropy', depth=2: 0.785\n",
      "n_trees=20, criterion='entropy', depth=5: 0.795\n",
      "n_trees=20, criterion='entropy', depth=10: 0.815\n",
      "n_trees=20, criterion='entropy', depth=None: 0.82\n",
      "n_trees=100, criterion='gini', depth=2: 0.755\n",
      "n_trees=100, criterion='gini', depth=5: 0.825\n",
      "n_trees=100, criterion='gini', depth=10: 0.825\n",
      "n_trees=100, criterion='gini', depth=None: 0.82\n",
      "n_trees=100, criterion='entropy', depth=2: 0.75\n",
      "n_trees=100, criterion='entropy', depth=5: 0.785\n",
      "n_trees=100, criterion='entropy', depth=10: 0.845\n",
      "n_trees=100, criterion='entropy', depth=None: 0.83\n"
     ]
    }
   ],
   "source": [
    "from sklearn.ensemble import RandomForestClassifier\n",
    "\n",
    "for n_trees in [5, 10, 20, 100]:\n",
    "    for criterion in [\"gini\", \"entropy\"]:\n",
    "        for depth in [2, 5, 10, None]:\n",
    "            tree = RandomForestClassifier(n_estimators=n_trees,\n",
    "                                          criterion=criterion,\n",
    "                                          max_depth=depth)\n",
    "\n",
    "            tree.fit(features_train.T, labels_train)\n",
    "\n",
    "            score = tree.score(features_val.T, labels_val)\n",
    "            print(f\"{n_trees=}, {criterion=}, {depth=}: {score}\")"
   ]
  },
  {
   "cell_type": "markdown",
   "metadata": {},
   "source": [
    "The best validation score of 0.845 is achieved with 100 trees, a maximum depth of 10, and entropy as critertoin (though the difference to other configurations is small)."
   ]
  },
  {
   "cell_type": "code",
   "execution_count": 19,
   "metadata": {},
   "outputs": [
    {
     "name": "stdout",
     "output_type": "stream",
     "text": [
      "Test score: 0.76\n"
     ]
    }
   ],
   "source": [
    "tree = RandomForestClassifier(n_estimators=100, criterion=\"entropy\", max_depth=10)\n",
    "tree.fit(features_train.T, labels_train)\n",
    "\n",
    "score = tree.score(features_test.T, labels_test)\n",
    "print(f\"Test score: {score}\")"
   ]
  }
 ],
 "metadata": {
  "kernelspec": {
   "display_name": "phys",
   "language": "python",
   "name": "python3"
  },
  "language_info": {
   "codemirror_mode": {
    "name": "ipython",
    "version": 3
   },
   "file_extension": ".py",
   "mimetype": "text/x-python",
   "name": "python",
   "nbconvert_exporter": "python",
   "pygments_lexer": "ipython3",
   "version": "3.11.6"
  }
 },
 "nbformat": 4,
 "nbformat_minor": 2
}
